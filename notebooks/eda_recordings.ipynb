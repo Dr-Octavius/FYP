{
 "cells": [
  {
   "cell_type": "markdown",
   "metadata": {},
   "source": [
    "# FYP: Exploratory Data Analysis for Call Recordings\n",
    "**FYP Goal:** Development of an AI/ML pipeline for pre-training a foundation model for sales\n",
    "\n",
    "**EDA Goal:** Study the Calls that led to an Appointment Set to determine the preprocessing steps required for calls\n",
    "\n",
    "**Data Source:** Using the hubspot data viewer, we extracted the data set based on the below specifications. We then employed a script in src/data_collector/getAllRecordings to extract all recordings from the `Recording URL` column. We then selected an initial sample of 28 calls that led to appointments as an initial training set for the NLP model\n",
    "\n",
    "#### Filters Employed to extract SA_Singapore_Calls.csv\n",
    "- Countries: Singapore\n",
    "- Object: Calls\n",
    "\n",
    "#### Data Columns extracted from HubSpot (17)\n",
    "1. ```Record ID```\n",
    "2. ```Call Title```\n",
    "3. ```Activity date```\n",
    "4. ```Activity assigned to```\n",
    "5. ```Call notes```\n",
    "6. ```Associated Contact```\n",
    "7. ```Associated Company```\n",
    "8. ```Associated Deal```\n",
    "9. ```Call Outcome```\n",
    "10. ```Recording URL```\n",
    "11. ```To Number```\n",
    "12. ```Call duration (HH:mm:ss)```\n",
    "13. ```Associated Contact IDs```\n",
    "14. ```Number of times contacted```\n",
    "15. ```Associated Contact IDs```\n",
    "16. ```Associated Company IDs```\n",
    "17. ```Associated Deal IDs```\n",
    "\n",
    "#### Notes\n",
    "We will not be dealing with the numerical entries. The above is just a preamble to provide context for the data source"
   ]
  },
  {
   "cell_type": "markdown",
   "metadata": {},
   "source": [
    "### 1. Import Libraries\n",
    "First, we import the necessary Python libraries required for our analysis."
   ]
  },
  {
   "cell_type": "code",
   "execution_count": 1,
   "metadata": {},
   "outputs": [],
   "source": [
    "import librosa\n",
    "import numpy as np\n",
    "import pandas as pd\n",
    "import os\n",
    "import matplotlib.pyplot as plt\n",
    "import seaborn as sns\n",
    "from pydub import AudioSegment"
   ]
  },
  {
   "cell_type": "markdown",
   "metadata": {},
   "source": [
    "we also change the working directory"
   ]
  },
  {
   "cell_type": "code",
   "execution_count": 2,
   "metadata": {},
   "outputs": [],
   "source": [
    "# change working directory to the root of your project\n",
    "# Adjust according to the current path in the output\n",
    "os.chdir('../')"
   ]
  },
  {
   "cell_type": "markdown",
   "metadata": {},
   "source": [
    "### 2. Load the dataset"
   ]
  },
  {
   "cell_type": "code",
   "execution_count": 3,
   "metadata": {},
   "outputs": [],
   "source": [
    "calls_df = pd.read_csv('data/SA_Singapore_Calls.csv')"
   ]
  },
  {
   "cell_type": "markdown",
   "metadata": {},
   "source": [
    "### 3. Viewing the Dataset"
   ]
  },
  {
   "cell_type": "code",
   "execution_count": 4,
   "metadata": {},
   "outputs": [
    {
     "name": "stdout",
     "output_type": "stream",
     "text": [
      "<class 'pandas.core.frame.DataFrame'>\n",
      "RangeIndex: 8326 entries, 0 to 8325\n",
      "Data columns (total 16 columns):\n",
      " #   Column                    Non-Null Count  Dtype  \n",
      "---  ------                    --------------  -----  \n",
      " 0   Record ID                 8326 non-null   int64  \n",
      " 1   Call Title                8324 non-null   object \n",
      " 2   Activity date             8326 non-null   object \n",
      " 3   Activity assigned to      8243 non-null   object \n",
      " 4   Call notes                6195 non-null   object \n",
      " 5   Associated Contact        6785 non-null   object \n",
      " 6   Associated Company        7975 non-null   object \n",
      " 7   Associated Deal           2465 non-null   object \n",
      " 8   Call outcome              8326 non-null   object \n",
      " 9   Recording URL             8326 non-null   object \n",
      " 10  To Number                 8326 non-null   object \n",
      " 11  Call duration (HH:mm:ss)  8326 non-null   object \n",
      " 12  Voicemail Available       0 non-null      float64\n",
      " 13  Associated Contact IDs    6785 non-null   object \n",
      " 14  Associated Company IDs    7977 non-null   object \n",
      " 15  Associated Deal IDs       2465 non-null   object \n",
      "dtypes: float64(1), int64(1), object(14)\n",
      "memory usage: 1.0+ MB\n"
     ]
    }
   ],
   "source": [
    "calls_df.info()"
   ]
  },
  {
   "cell_type": "markdown",
   "metadata": {},
   "source": [
    "### 2. Function to Extract Audio Properties\n",
    "\n",
    "This function extracts essential audio properties to inform preprocessing decisions for audio files. It leverages `pydub` and `librosa` to retrieve details about each file, including duration, channels, sample rate, loudness, and frequency characteristics. These features are valuable for analyzing the audio data quality, consistency, and identifying necessary preprocessing steps.\n",
    "\n",
    "#### Features Extracted\n",
    "\n",
    "1. **Duration (sec)**: The total length of the audio file in seconds.\n",
    "2. **Channels**: The number of audio channels (e.g., mono or stereo).\n",
    "3. **Sample Rate**: The frequency at which the audio signal is sampled per second.\n",
    "4. **File Size (KB)**: The file’s size, providing an indirect indication of the audio quality and bitrate.\n",
    "5. **RMS Energy**: The Root Mean Square energy of the signal, indicating the average loudness of the audio file.\n",
    "6. **Zero Crossing Rate (ZCR)**: The rate at which the signal changes sign, providing insight into the audio’s frequency characteristics.\n",
    "7. **Log Mel Mean**: The average power across the Mel spectrogram’s frequency bands, indicating the distribution of energy in the audio.\n",
    "8. **Log Mel Spectrogram**: A matrix representing the power of different frequency bands over time, converted to a logarithmic scale for better interpretability.\n",
    "\n",
    "#### Desired Decision-Making\n",
    "\n",
    "Based on the features extracted in the function below, we wish to know be able to make the following decisions\n",
    "\n",
    "1. **Duration (sec) :** Standardize audio length by trimming longer files or padding shorter files. This ensures consistency across samples, especially important because we will be feeding these files into OpenSmile for feture extraction & Whisper for transcription\n",
    "2. **Channels :** Convert all files to mono if they vary in channels (mono vs. stereo) to maintain uniformity, reduce data size, and simplify processing\n",
    "3. **Sample Rate :** Resample audio to a standard rate (e.g., 16kHz or 44.1kHz) if there is variation, ensuring compatibility and consistency across files\n",
    "4. **File Size (KB) :** Compress or downsample large files if needed, especially if they consume excessive storage or processing power\n",
    "5. **RMS Energy :** Normalize the loudness across files if RMS values vary significantly. This reduces variance in audio intensity and ensures consistent audio levels for analysis or training\n",
    "6. **Zero Crossing Rate (ZCR) :** Apply noise reduction or frequency filtering for files with unusually high ZCR, as this may indicate the presence of noise or high-frequency content that may not be useful.\n",
    "7. **Log Mel Mean :** Normalize audio files if there is significant variation in mean energy across the frequency bands, helping to maintain consistency in audio features.\n",
    "8. **Log Mel Spectrogram :** Use the Log Mel spectrogram as a feature representation for machine learning models. Additionally, visual inspection can reveal noise patterns or artifacts, which may guide additional preprocessing, like denoising."
   ]
  },
  {
   "cell_type": "code",
   "execution_count": 3,
   "metadata": {},
   "outputs": [],
   "source": [
    "# Function to extract audio properties\n",
    "def extract_audio_properties(file_path):\n",
    "    try:\n",
    "        # Load the audio file\n",
    "        audio = AudioSegment.from_file(file_path)\n",
    "        \n",
    "        # Extract file properties\n",
    "        duration_ms = len(audio)  # Duration in milliseconds\n",
    "        duration_sec = duration_ms / 1000  # Convert to seconds\n",
    "        channels = audio.channels\n",
    "        sample_rate = audio.frame_rate\n",
    "        file_size_kb = os.path.getsize(file_path) / 1024  # File size in KB\n",
    "        \n",
    "        # Use librosa for additional analysis\n",
    "        y, sr = librosa.load(file_path, sr=None)\n",
    "        rms = librosa.feature.rms(y=y).mean()  # Root Mean Square energy\n",
    "        zcr = librosa.feature.zero_crossing_rate(y=y).mean()  # Zero Crossing Rate\n",
    "        \n",
    "        # Compute the Mel spectrogram\n",
    "        mel_spectrogram = librosa.feature.melspectrogram(y=y, sr=sr, n_mels=128, hop_length=512)\n",
    "        \n",
    "        # Convert to Log scale\n",
    "        log_mel_spectrogram = librosa.power_to_db(mel_spectrogram, ref=np.max)\n",
    "        \n",
    "        # Calculate mean Log Mel across time for summary\n",
    "        log_mel_mean = log_mel_spectrogram.mean()\n",
    "\n",
    "        # Return extracted properties as a dictionary\n",
    "        return {\n",
    "            \"File Name\": os.path.basename(file_path),\n",
    "            \"Duration (sec)\": duration_sec,\n",
    "            \"Channels\": channels,\n",
    "            \"Sample Rate\": sample_rate,\n",
    "            \"File Size (KB)\": file_size_kb,\n",
    "            \"RMS Energy\": rms,\n",
    "            \"Zero Crossing Rate\": zcr,\n",
    "            \"Log Mel Mean\": log_mel_mean,\n",
    "            \"Log Mel Spectrogram\": log_mel_spectrogram\n",
    "        }\n",
    "    except Exception as e:\n",
    "        print(f\"Error processing {file_path}: {e}\")\n",
    "        return None"
   ]
  },
  {
   "cell_type": "markdown",
   "metadata": {},
   "source": [
    "### 3. Function to Extract Features into a DataFrame\n",
    "This function will employ the use of the function above to collate all properties into a dataframe"
   ]
  },
  {
   "cell_type": "code",
   "execution_count": 4,
   "metadata": {},
   "outputs": [],
   "source": [
    "# Function to process a directory of MP3 files and create a DataFrame\n",
    "def analyze_audio_directory(directory):\n",
    "    audio_data = []\n",
    "\n",
    "    # Iterate over all MP3 files in the directory\n",
    "    for file_name in os.listdir(directory):\n",
    "        if file_name.endswith(\".mp3\"):\n",
    "            file_path = os.path.join(directory, file_name)\n",
    "            audio_properties = extract_audio_properties(file_path)\n",
    "            if audio_properties:\n",
    "                audio_data.append(audio_properties)\n",
    "\n",
    "    # Create DataFrame from collected data\n",
    "    return pd.DataFrame(audio_data)"
   ]
  },
  {
   "cell_type": "markdown",
   "metadata": {},
   "source": [
    "### 4. Load Calls\n",
    "Load the calls we intend to study"
   ]
  },
  {
   "cell_type": "code",
   "execution_count": 5,
   "metadata": {},
   "outputs": [
    {
     "ename": "NameError",
     "evalue": "name 'audio_dir' is not defined",
     "output_type": "error",
     "traceback": [
      "\u001b[0;31m---------------------------------------------------------------------------\u001b[0m",
      "\u001b[0;31mNameError\u001b[0m                                 Traceback (most recent call last)",
      "Cell \u001b[0;32mIn[5], line 1\u001b[0m\n\u001b[0;32m----> 1\u001b[0m audio_df \u001b[38;5;241m=\u001b[39m analyze_audio_directory(\u001b[43maudio_dir\u001b[49m)\n",
      "\u001b[0;31mNameError\u001b[0m: name 'audio_dir' is not defined"
     ]
    }
   ],
   "source": [
    "audio_df = analyze_audio_directory(audio_dir)"
   ]
  },
  {
   "cell_type": "markdown",
   "metadata": {},
   "source": [
    "### 5. View the data set"
   ]
  },
  {
   "cell_type": "code",
   "execution_count": null,
   "metadata": {},
   "outputs": [],
   "source": [
    "audio_df.head()"
   ]
  },
  {
   "cell_type": "markdown",
   "metadata": {},
   "source": [
    "### 5. Data Analysis"
   ]
  },
  {
   "cell_type": "markdown",
   "metadata": {},
   "source": [
    "#### Summary Statistics\n",
    "We conduct some overview summary statistics for the dataset"
   ]
  },
  {
   "cell_type": "code",
   "execution_count": null,
   "metadata": {},
   "outputs": [],
   "source": [
    "audio_df.describe()"
   ]
  },
  {
   "cell_type": "markdown",
   "metadata": {},
   "source": [
    "#### Outliers in Duration and Sample Rate"
   ]
  },
  {
   "cell_type": "code",
   "execution_count": null,
   "metadata": {},
   "outputs": [],
   "source": [
    "# Histogram for Duration\n",
    "plt.hist(audio_df[\"Duration (sec)\"], bins=20)\n",
    "plt.xlabel(\"Duration (sec)\")\n",
    "plt.ylabel(\"Frequency\")\n",
    "plt.title(\"Distribution of Audio Duration\")\n",
    "plt.show()\n",
    "\n",
    "# Histogram for Sample Rate\n",
    "plt.hist(audio_df[\"Sample Rate\"], bins=10)\n",
    "plt.xlabel(\"Sample Rate (Hz)\")\n",
    "plt.ylabel(\"Frequency\")\n",
    "plt.title(\"Distribution of Sample Rates\")\n",
    "plt.show()"
   ]
  },
  {
   "cell_type": "markdown",
   "metadata": {},
   "source": [
    "#### File Size Analysis"
   ]
  },
  {
   "cell_type": "code",
   "execution_count": null,
   "metadata": {},
   "outputs": [],
   "source": [
    "# Histogram for File Size\n",
    "plt.hist(audio_df[\"File Size (KB)\"], bins=20)\n",
    "plt.xlabel(\"File Size (KB)\")\n",
    "plt.ylabel(\"Frequency\")\n",
    "plt.title(\"Distribution of File Sizes\")\n",
    "plt.show()"
   ]
  },
  {
   "cell_type": "markdown",
   "metadata": {},
   "source": [
    "#### RMS Energy Analysis"
   ]
  },
  {
   "cell_type": "code",
   "execution_count": null,
   "metadata": {},
   "outputs": [],
   "source": [
    "# Histogram for RMS Energy\n",
    "plt.hist(audio_df[\"RMS Energy\"], bins=20)\n",
    "plt.xlabel(\"RMS Energy\")\n",
    "plt.ylabel(\"Frequency\")\n",
    "plt.title(\"Distribution of RMS Energy (Loudness)\")\n",
    "plt.show()"
   ]
  },
  {
   "cell_type": "markdown",
   "metadata": {},
   "source": [
    "#### Zero Crossing Rate (ZCR) Analysis"
   ]
  },
  {
   "cell_type": "code",
   "execution_count": null,
   "metadata": {},
   "outputs": [],
   "source": [
    "# Histogram for Zero Crossing Rate\n",
    "plt.hist(audio_df[\"Zero Crossing Rate\"], bins=20)\n",
    "plt.xlabel(\"Zero Crossing Rate\")\n",
    "plt.ylabel(\"Frequency\")\n",
    "plt.title(\"Distribution of Zero Crossing Rate\")\n",
    "plt.show()"
   ]
  },
  {
   "cell_type": "markdown",
   "metadata": {},
   "source": [
    "#### Log Mel Spectrogram Analysis"
   ]
  },
  {
   "cell_type": "code",
   "execution_count": null,
   "metadata": {},
   "outputs": [],
   "source": [
    "# Plot example Log Mel Spectrograms\n",
    "for i in range(min(3, len(audio_df))):  # Plot up to 3 examples\n",
    "    file_name = audio_df[\"File Name\"].iloc[i]\n",
    "    log_mel_spectrogram = audio_df[\"Log Mel Spectrogram\"].iloc[i]\n",
    "    plt.figure(figsize=(10, 4))\n",
    "    librosa.display.specshow(log_mel_spectrogram, sr=22050, hop_length=512, x_axis=\"time\", y_axis=\"mel\")\n",
    "    plt.colorbar(format=\"%+2.0f dB\")\n",
    "    plt.title(f\"Log Mel Spectrogram for {file_name}\")\n",
    "    plt.tight_layout()\n",
    "    plt.show()"
   ]
  },
  {
   "cell_type": "markdown",
   "metadata": {},
   "source": [
    "#### Correlation Analysis"
   ]
  },
  {
   "cell_type": "code",
   "execution_count": null,
   "metadata": {},
   "outputs": [],
   "source": [
    "correlation_matrix = audio_df[[\"Duration (sec)\", \"Sample Rate\", \"File Size (KB)\", \"RMS Energy\", \"Zero Crossing Rate\", \"Log Mel Mean\"]].corr()\n",
    "plt.figure(figsize=(10, 8))\n",
    "sns.heatmap(correlation_matrix, annot=True, cmap=\"coolwarm\", vmin=-1, vmax=1)\n",
    "plt.title(\"Correlation Matrix of Audio Features\")\n",
    "plt.show()"
   ]
  }
 ],
 "metadata": {
  "kernelspec": {
   "display_name": "Python 3 (ipykernel)",
   "language": "python",
   "name": "python3"
  },
  "language_info": {
   "codemirror_mode": {
    "name": "ipython",
    "version": 3
   },
   "file_extension": ".py",
   "mimetype": "text/x-python",
   "name": "python",
   "nbconvert_exporter": "python",
   "pygments_lexer": "ipython3",
   "version": "3.12.7"
  }
 },
 "nbformat": 4,
 "nbformat_minor": 4
}
